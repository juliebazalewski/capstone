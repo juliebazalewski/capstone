{
 "cells": [
  {
   "cell_type": "code",
   "execution_count": 1,
   "id": "complex-killing",
   "metadata": {},
   "outputs": [],
   "source": [
    "import pandas as pd\n",
    "pd.set_option('display.max_rows', 1000)"
   ]
  },
  {
   "cell_type": "markdown",
   "id": "incredible-complaint",
   "metadata": {},
   "source": [
    "# Sales Data"
   ]
  },
  {
   "cell_type": "code",
   "execution_count": 2,
   "id": "third-calculator",
   "metadata": {},
   "outputs": [
    {
     "name": "stderr",
     "output_type": "stream",
     "text": [
      "C:\\Users\\julie\\anaconda3\\lib\\site-packages\\ipykernel_launcher.py:5: FutureWarning: The default value of regex will change from True to False in a future version. In addition, single character regular expressions will*not* be treated as literal strings when regex=True.\n",
      "  \"\"\"\n"
     ]
    }
   ],
   "source": [
    "#import sales csv\n",
    "sales = pd.read_csv('new_business.csv')\n",
    "\n",
    "#make names uppercase\n",
    "sales['cleaned_name']=sales['Client Name (first L)'].str.upper().str.strip().str.replace(',','').str.replace(' ','').str.replace('.','')"
   ]
  },
  {
   "cell_type": "code",
   "execution_count": 3,
   "id": "norman-polish",
   "metadata": {},
   "outputs": [
    {
     "name": "stderr",
     "output_type": "stream",
     "text": [
      "C:\\Users\\julie\\anaconda3\\lib\\site-packages\\ipykernel_launcher.py:7: FutureWarning: The default value of regex will change from True to False in a future version. In addition, single character regular expressions will*not* be treated as literal strings when regex=True.\n",
      "  import sys\n"
     ]
    }
   ],
   "source": [
    "#import contacts csv\n",
    "contacts = pd.read_csv('contacts_confidential.csv')\n",
    "\n",
    "#remove those without zip codes\n",
    "contacts_w_zip = contacts[contacts['Merged Zip'] != ' '].reset_index()\n",
    "\n",
    "contacts_w_zip['cleaned_name'] = contacts_w_zip['Titleized First L'].str.upper().str.strip().str.replace(',','').str.replace(' ','').str.replace('.','')"
   ]
  },
  {
   "cell_type": "code",
   "execution_count": 4,
   "id": "loved-antenna",
   "metadata": {},
   "outputs": [],
   "source": [
    "#need to add another column for the cases when there is a couple name in the sales data (\"AND\"). Add both directions\n",
    "contacts_w_zip['combined name'] = contacts_w_zip['Last Name'].str.strip().str[0] + contacts_w_zip['First Name1'].str.strip() + 'AND' + contacts_w_zip['First Name2'].str.strip()\n",
    "contacts_w_zip['combined name 2'] = contacts_w_zip['Last Name'].str.strip().str[0] + contacts_w_zip['First Name2'].str.strip() +  'AND' + contacts_w_zip['First Name1'].str.strip()"
   ]
  },
  {
   "cell_type": "code",
   "execution_count": 5,
   "id": "fourth-stone",
   "metadata": {},
   "outputs": [
    {
     "data": {
      "text/html": [
       "<div>\n",
       "<style scoped>\n",
       "    .dataframe tbody tr th:only-of-type {\n",
       "        vertical-align: middle;\n",
       "    }\n",
       "\n",
       "    .dataframe tbody tr th {\n",
       "        vertical-align: top;\n",
       "    }\n",
       "\n",
       "    .dataframe thead tr th {\n",
       "        text-align: left;\n",
       "    }\n",
       "</style>\n",
       "<table border=\"1\" class=\"dataframe\">\n",
       "  <thead>\n",
       "    <tr>\n",
       "      <th></th>\n",
       "      <th>index</th>\n",
       "      <th>Titleized First L</th>\n",
       "      <th>Last Name</th>\n",
       "      <th>First Name1</th>\n",
       "      <th>Merged Zip</th>\n",
       "    </tr>\n",
       "    <tr>\n",
       "      <th></th>\n",
       "      <th></th>\n",
       "      <th></th>\n",
       "      <th></th>\n",
       "      <th>total</th>\n",
       "      <th></th>\n",
       "    </tr>\n",
       "  </thead>\n",
       "  <tbody>\n",
       "  </tbody>\n",
       "</table>\n",
       "</div>"
      ],
      "text/plain": [
       "Empty DataFrame\n",
       "Columns: [(index, ), (Titleized First L, ), (Last Name, ), (First Name1, total), (Merged Zip, )]\n",
       "Index: []"
      ]
     },
     "execution_count": 5,
     "metadata": {},
     "output_type": "execute_result"
    }
   ],
   "source": [
    "#determine if there are still any duplicate entries\n",
    "df = contacts_w_zip.groupby(['Titleized First L','Last Name','Merged Zip']).agg([('total', 'count')]).reset_index()\n",
    "filter_df = df[['Titleized First L', 'Last Name', 'First Name1', 'Merged Zip']]\n",
    "filter_df[filter_df[('First Name1','total')] > 1].reset_index()"
   ]
  },
  {
   "cell_type": "code",
   "execution_count": 6,
   "id": "limited-diving",
   "metadata": {},
   "outputs": [
    {
     "data": {
      "text/html": [
       "<div>\n",
       "<style scoped>\n",
       "    .dataframe tbody tr th:only-of-type {\n",
       "        vertical-align: middle;\n",
       "    }\n",
       "\n",
       "    .dataframe tbody tr th {\n",
       "        vertical-align: top;\n",
       "    }\n",
       "\n",
       "    .dataframe thead tr th {\n",
       "        text-align: left;\n",
       "    }\n",
       "</style>\n",
       "<table border=\"1\" class=\"dataframe\">\n",
       "  <thead>\n",
       "    <tr>\n",
       "      <th></th>\n",
       "      <th>index</th>\n",
       "      <th>Titleized First L</th>\n",
       "      <th>Last Name</th>\n",
       "    </tr>\n",
       "    <tr>\n",
       "      <th></th>\n",
       "      <th></th>\n",
       "      <th></th>\n",
       "      <th>total</th>\n",
       "    </tr>\n",
       "  </thead>\n",
       "  <tbody>\n",
       "  </tbody>\n",
       "</table>\n",
       "</div>"
      ],
      "text/plain": [
       "Empty DataFrame\n",
       "Columns: [(index, ), (Titleized First L, ), (Last Name, total)]\n",
       "Index: []"
      ]
     },
     "execution_count": 6,
     "metadata": {},
     "output_type": "execute_result"
    }
   ],
   "source": [
    "#determine if there are still any duplicate entries\n",
    "df = contacts_w_zip.groupby(['Titleized First L']).agg([('total', 'count')]).reset_index()\n",
    "filter_df = df[['Titleized First L', 'Last Name']]\n",
    "#filter_df\n",
    "filter_df[filter_df[('Last Name','total')]> 1].reset_index()"
   ]
  },
  {
   "cell_type": "markdown",
   "id": "positive-socket",
   "metadata": {},
   "source": [
    "## Nicknames"
   ]
  },
  {
   "cell_type": "code",
   "execution_count": 7,
   "id": "sitting-halifax",
   "metadata": {},
   "outputs": [],
   "source": [
    "#import nicknames csv (https://github.com/carltonnorthern/nickname-and-diminutive-names-lookup)\n",
    "nicknames = pd.read_csv('names.csv')\n",
    "nicknames = nicknames.apply(lambda x: x.astype(str).str.upper())"
   ]
  },
  {
   "cell_type": "code",
   "execution_count": 8,
   "id": "harmful-atlantic",
   "metadata": {},
   "outputs": [],
   "source": [
    "nickname_df = contacts_w_zip.merge(nicknames, left_on='First Name1', right_on='name').drop(['name','nickname7','nickname8','nickname9','nickname10','nickname11','nickname13','nickname14','nickname15','nickname12'],axis=1)"
   ]
  },
  {
   "cell_type": "code",
   "execution_count": 9,
   "id": "valid-storage",
   "metadata": {},
   "outputs": [],
   "source": [
    "nickname_df['nickname1'] = nickname_df['Last Name'].str[0] + nickname_df['nickname1']\n",
    "nickname_df['nickname2'] = nickname_df['Last Name'].str[0] + nickname_df['nickname2']\n",
    "nickname_df['nickname3'] = nickname_df['Last Name'].str[0] + nickname_df['nickname3']\n",
    "nickname_df['nickname4'] = nickname_df['Last Name'].str[0] + nickname_df['nickname4']"
   ]
  },
  {
   "cell_type": "markdown",
   "id": "neither-dealer",
   "metadata": {},
   "source": [
    "## Join Sales and Contact Data Frames"
   ]
  },
  {
   "cell_type": "code",
   "execution_count": 10,
   "id": "latest-compact",
   "metadata": {},
   "outputs": [],
   "source": [
    "df_join = sales.merge(contacts_w_zip, on='cleaned_name')"
   ]
  },
  {
   "cell_type": "code",
   "execution_count": 11,
   "id": "latin-protest",
   "metadata": {},
   "outputs": [],
   "source": [
    "df_combined_names1_join = sales.merge(contacts_w_zip[contacts_w_zip['combined name'].str.contains('AND')], left_on='cleaned_name', right_on='combined name')\n",
    "df_combined_names1_join = df_combined_names1_join.drop(['cleaned_name_y'],axis=1)"
   ]
  },
  {
   "cell_type": "code",
   "execution_count": 12,
   "id": "nearby-dependence",
   "metadata": {},
   "outputs": [],
   "source": [
    "df_combined_names2_join = sales.merge(contacts_w_zip[contacts_w_zip['combined name'].str.contains('AND')], left_on='cleaned_name', right_on='combined name 2')\n",
    "df_combined_names2_join = df_combined_names2_join.drop(['cleaned_name_y'],axis=1)"
   ]
  },
  {
   "cell_type": "code",
   "execution_count": 13,
   "id": "hollywood-failure",
   "metadata": {},
   "outputs": [],
   "source": [
    "joined_df = pd.concat([df_join,df_combined_names1_join,df_combined_names2_join]).reset_index()\n",
    "joined_df = joined_df.drop(['cleaned_name_x'],axis=1)"
   ]
  },
  {
   "cell_type": "code",
   "execution_count": 14,
   "id": "opening-dairy",
   "metadata": {},
   "outputs": [],
   "source": [
    "#check for duplicates\n",
    "joined_df = joined_df.drop_duplicates()"
   ]
  },
  {
   "cell_type": "code",
   "execution_count": 15,
   "id": "proper-mapping",
   "metadata": {},
   "outputs": [],
   "source": [
    "df_nicknames1_joined = sales.merge(nickname_df, left_on='cleaned_name', right_on='nickname1')\n",
    "df_nicknames2_joined = sales.merge(nickname_df, left_on='cleaned_name', right_on='nickname2')\n",
    "df_nicknames3_joined = sales.merge(nickname_df, left_on='cleaned_name', right_on='nickname3')\n",
    "df_nicknames4_joined = sales.merge(nickname_df, left_on='cleaned_name', right_on='nickname4')"
   ]
  },
  {
   "cell_type": "code",
   "execution_count": 16,
   "id": "geographic-heading",
   "metadata": {},
   "outputs": [],
   "source": [
    "joined_df = joined_df.drop(['level_0'],axis=1)\n",
    "joined_df = pd.concat([joined_df,df_nicknames1_joined]).reset_index()\n",
    "joined_df = joined_df.drop(['level_0'],axis=1)\n",
    "joined_df = pd.concat([joined_df,df_nicknames2_joined]).reset_index()\n",
    "joined_df = joined_df.drop(['level_0'],axis=1)\n",
    "joined_df = pd.concat([joined_df,df_nicknames3_joined]).reset_index()\n",
    "joined_df = joined_df.drop(['level_0'],axis=1)\n",
    "joined_df = pd.concat([joined_df,df_nicknames4_joined]).reset_index()"
   ]
  },
  {
   "cell_type": "code",
   "execution_count": 17,
   "id": "copyrighted-rochester",
   "metadata": {},
   "outputs": [],
   "source": [
    "joined_df_final = joined_df[['Initial Contact Month', 'Initial Contact Year', 'Referral Source', 'Practice Area', 'Fee', 'Cleaned Cities', 'State', 'Merged Zip']]"
   ]
  },
  {
   "cell_type": "code",
   "execution_count": 18,
   "id": "measured-jones",
   "metadata": {},
   "outputs": [
    {
     "name": "stderr",
     "output_type": "stream",
     "text": [
      "C:\\Users\\julie\\anaconda3\\lib\\site-packages\\ipykernel_launcher.py:1: FutureWarning: The default value of regex will change from True to False in a future version. In addition, single character regular expressions will*not* be treated as literal strings when regex=True.\n",
      "  \"\"\"Entry point for launching an IPython kernel.\n",
      "C:\\Users\\julie\\anaconda3\\lib\\site-packages\\ipykernel_launcher.py:1: SettingWithCopyWarning: \n",
      "A value is trying to be set on a copy of a slice from a DataFrame.\n",
      "Try using .loc[row_indexer,col_indexer] = value instead\n",
      "\n",
      "See the caveats in the documentation: https://pandas.pydata.org/pandas-docs/stable/user_guide/indexing.html#returning-a-view-versus-a-copy\n",
      "  \"\"\"Entry point for launching an IPython kernel.\n",
      "C:\\Users\\julie\\anaconda3\\lib\\site-packages\\ipykernel_launcher.py:2: SettingWithCopyWarning: \n",
      "A value is trying to be set on a copy of a slice from a DataFrame.\n",
      "Try using .loc[row_indexer,col_indexer] = value instead\n",
      "\n",
      "See the caveats in the documentation: https://pandas.pydata.org/pandas-docs/stable/user_guide/indexing.html#returning-a-view-versus-a-copy\n",
      "  \n"
     ]
    }
   ],
   "source": [
    "joined_df_final['Fee'] = joined_df_final['Fee'].str.strip().str.replace(',','').str.replace('$','').str.replace('-','').str.replace(' ','NaN')\n",
    "joined_df_final['Fee'] = pd.to_numeric(joined_df_final['Fee'], errors='coerce')"
   ]
  },
  {
   "cell_type": "code",
   "execution_count": 19,
   "id": "regulation-manhattan",
   "metadata": {},
   "outputs": [],
   "source": [
    "joined_df_final.columns = ['Contact Month', 'Contact Year', 'Referral', 'Practice Area', 'Fee', 'City', 'State', 'Zip']"
   ]
  },
  {
   "cell_type": "code",
   "execution_count": 20,
   "id": "dedicated-retail",
   "metadata": {},
   "outputs": [],
   "source": [
    "joined_df_final.to_csv('cleaned_sales.csv')"
   ]
  },
  {
   "cell_type": "markdown",
   "id": "smart-responsibility",
   "metadata": {},
   "source": [
    "# Calls Data"
   ]
  },
  {
   "cell_type": "code",
   "execution_count": 21,
   "id": "incredible-parameter",
   "metadata": {},
   "outputs": [],
   "source": [
    "#import calls csv\n",
    "calls = pd.read_csv('call_list.csv')"
   ]
  },
  {
   "cell_type": "code",
   "execution_count": 22,
   "id": "delayed-springer",
   "metadata": {},
   "outputs": [],
   "source": [
    "joined_calls_df = joined_df.merge(calls, left_on='Formatted Phone', right_on='Phone Number', how=\"right\")"
   ]
  },
  {
   "cell_type": "code",
   "execution_count": 23,
   "id": "rising-regular",
   "metadata": {},
   "outputs": [],
   "source": [
    "joined_calls_df_final = joined_calls_df[['Fee','Merged Zip','City','State_y','Source','Duration (seconds)', \n",
    "                                         'Start Time', 'Keywords', 'Campaign', 'Active Page', 'Ad Group', \n",
    "                                         'Referrer', 'Device Type', 'Browser']]\n",
    "joined_calls_df_final.columns         = ['Fee', 'Zip', 'City', 'State', 'Source', 'Duration', \n",
    "                                         'Start Time', 'Keywords','Campaign', 'Page', 'Ad Group',\n",
    "                                         'Referrer', 'Device Type', 'Browser']"
   ]
  },
  {
   "cell_type": "code",
   "execution_count": 24,
   "id": "statutory-windsor",
   "metadata": {},
   "outputs": [],
   "source": [
    "joined_calls_df_final.to_csv('cleaned_calls.csv')"
   ]
  },
  {
   "cell_type": "markdown",
   "id": "nearby-computer",
   "metadata": {},
   "source": [
    "# Census Data"
   ]
  },
  {
   "cell_type": "code",
   "execution_count": null,
   "id": "solid-briefs",
   "metadata": {},
   "outputs": [],
   "source": [
    "census_DP02 = pd.read_csv('ACSDP5Y2019.DP02_data_with_overlays_2021-11-10T063909.csv', low_memory=False)\n",
    "census_DP03 = pd.read_csv('ACSDP5Y2019.DP03_data_with_overlays_2021-11-04T190527.csv', low_memory=False)\n",
    "census_DP04 = pd.read_csv('ACSDP5Y2019.DP04_data_with_overlays_2021-11-08T005314.csv', low_memory=False)\n",
    "census_DP05 = pd.read_csv('ACSDP5Y2019.DP05_data_with_overlays_2021-11-04T120142.csv', low_memory=False)"
   ]
  },
  {
   "cell_type": "code",
   "execution_count": null,
   "id": "japanese-boundary",
   "metadata": {},
   "outputs": [],
   "source": [
    "census_DP02 = census_DP02[['NAME', 'DP02_0001E', 'DP02_0002PE', 'DP02_0003PE',\n",
    "       'DP02_0006PE', 'DP02_0010PE', 'DP02_0016E', 'DP02_0017E', 'DP02_0026PE',\n",
    "       'DP02_0027PE', 'DP02_0030PE', 'DP02_0032PE', 'DP02_0033PE',\n",
    "       'DP02_0036PE', 'DP02_0062PE', 'DP02_0064PE', 'DP02_0065PE',\n",
    "       'DP02_0066PE', 'DP02_0072PE']]\n",
    "census_DP03 = census_DP03[['NAME', 'DP03_0001E', 'DP03_0002PE', 'DP03_0009PE',\n",
    "       'DP03_0047PE', 'DP03_0048PE', 'DP03_0049PE', 'DP03_0062E', 'DP03_0063E',\n",
    "       'DP03_0088E']]\n",
    "census_DP04 = census_DP04[['NAME', 'DP04_0041PE', 'DP04_0042PE', 'DP04_0043PE',\n",
    "       'DP04_0089E', 'DP04_0101E', 'DP04_0110E', 'DP04_0111PE', 'DP04_0112PE',\n",
    "       'DP04_0113PE', 'DP04_0114PE', 'DP04_0115PE', 'DP04_0134E', 'DP04_0136E',\n",
    "       'DP04_0137PE', 'DP04_0138PE', 'DP04_0139PE', 'DP04_0140PE',\n",
    "       'DP04_0141PE', 'DP04_0142PE']]\n",
    "census_DP05 = census_DP05[['NAME', 'DP05_0001E', 'DP05_0002PE', 'DP05_0003PE',\n",
    "       'DP05_0018E', 'DP05_0019PE', 'DP05_0023PE', 'DP05_0024PE',\n",
    "       'DP05_0037PE', 'DP05_0038PE', 'DP05_0044PE', 'DP05_0071PE']]"
   ]
  },
  {
   "cell_type": "code",
   "execution_count": null,
   "id": "interracial-picking",
   "metadata": {},
   "outputs": [],
   "source": [
    "census_DP02.columns = ['ZCTA', 'Total Households', 'Percent Married Couple Family', \n",
    "                       'Percent Married Couple Family with Children', 'Percent Male Householder',\n",
    "                      'Percent Female Householder', 'Average Household Size', 'Average Family Size',\n",
    "                      'Percent Males Never Married', 'Percent Males Married', 'Percent Males Divorced', \n",
    "                       'Percent Females Never Married','Percent Females Married','Percent Females Divorced',\n",
    "                      'Percent High School Grad', 'Percent Assoc Deg', 'Percent Bachelors Deg',\n",
    "                       'Percent Graduate Deg', 'Percent Disabled']\n",
    "census_DP03.columns = ['ZCTA', 'Total Pop 16 and Up', 'Percent in Labor Force', 'Unemployment Rate', \n",
    "                       'Percent Private Sector', 'Percent Govt Workers', 'Percent Self Employed',\n",
    "                       'Median Income', 'Mean Income', 'Per Capita Income']\n",
    "census_DP04.columns = ['ZCTA', 'Percent 2 Bedroom Homes', 'Percent 3 Bedroom Homes', 'Percent 4 Bedroom Homes', \n",
    "                       'Median House Value', 'Median Mortgage', 'Tot Housing Units with Mortgage', \n",
    "                       'Mortgage Less than 20 Percent of Income', 'Mortgage Between 20 and 25 Percent of Income',\n",
    "                      'Mortgage Between 25 and 30 Percent of Income', 'Mortgage Between 30 and 35 Percent of Income',\n",
    "                      'Mortgage More than 35 Percent of Income', 'Total Units Paying Rent',\n",
    "                       'Rent Less than 15 Percent of Income', 'Rent Between 15 and 20 Percent of Income',\n",
    "                       'Rent Between 20 and 25 Percent of Income', 'Rent Between 20 and 25 Percent of Income', \n",
    "                       'Rent Between 25 and 30 Percent of Income', 'Rent Between 30 and 35 Percent of Income',\n",
    "                       'Rent More than 35 Percent of Income']\n",
    "census_DP05.columns = ['ZCTA', 'Total Pop', 'Percent Male', 'Percent Female', 'Median Age', 'Percent Under 18', \n",
    "                       'Percent 62 and Over', 'Percent 65 and Over', 'Percent White', 'Percent Black', 'Percent Asian',\n",
    "                      'Percent Hispanic']"
   ]
  },
  {
   "cell_type": "code",
   "execution_count": null,
   "id": "arabic-adrian",
   "metadata": {},
   "outputs": [],
   "source": [
    "#join tables\n",
    "census_df = census_DP02.merge(census_DP03, on='ZCTA').merge(census_DP04, on='ZCTA').merge(census_DP05, on='ZCTA')"
   ]
  },
  {
   "cell_type": "code",
   "execution_count": null,
   "id": "alpine-anderson",
   "metadata": {},
   "outputs": [],
   "source": [
    "#remove NA (some tables do not include Puerto Rico data)\n",
    "census_df = census_df.dropna().drop(0, axis=0).reset_index(drop=True)"
   ]
  },
  {
   "cell_type": "code",
   "execution_count": null,
   "id": "conservative-structure",
   "metadata": {},
   "outputs": [],
   "source": [
    "#remove 'ZCTA5' from each ZCTA\n",
    "census_df['ZCTA'] = census_df['ZCTA'].str.replace('ZCTA5','')"
   ]
  },
  {
   "cell_type": "code",
   "execution_count": null,
   "id": "instrumental-updating",
   "metadata": {},
   "outputs": [],
   "source": [
    "census_df"
   ]
  },
  {
   "cell_type": "code",
   "execution_count": null,
   "id": "radio-notice",
   "metadata": {},
   "outputs": [],
   "source": [
    "census_df.to_csv('cleaned_census.csv')"
   ]
  },
  {
   "cell_type": "code",
   "execution_count": null,
   "id": "pressing-ferry",
   "metadata": {},
   "outputs": [],
   "source": []
  },
  {
   "cell_type": "code",
   "execution_count": null,
   "id": "different-dollar",
   "metadata": {},
   "outputs": [],
   "source": []
  },
  {
   "cell_type": "code",
   "execution_count": null,
   "id": "individual-customer",
   "metadata": {},
   "outputs": [],
   "source": []
  },
  {
   "cell_type": "code",
   "execution_count": null,
   "id": "appointed-engineer",
   "metadata": {},
   "outputs": [],
   "source": []
  }
 ],
 "metadata": {
  "kernelspec": {
   "display_name": "Python 3",
   "language": "python",
   "name": "python3"
  },
  "language_info": {
   "codemirror_mode": {
    "name": "ipython",
    "version": 3
   },
   "file_extension": ".py",
   "mimetype": "text/x-python",
   "name": "python",
   "nbconvert_exporter": "python",
   "pygments_lexer": "ipython3",
   "version": "3.7.10"
  }
 },
 "nbformat": 4,
 "nbformat_minor": 5
}
